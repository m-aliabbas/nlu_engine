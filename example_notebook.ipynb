{
 "cells": [
  {
   "attachments": {},
   "cell_type": "markdown",
   "metadata": {},
   "source": [
    "# Natural Lanagauge Understanding Engine for InBound Bot"
   ]
  },
  {
   "attachments": {},
   "cell_type": "markdown",
   "metadata": {},
   "source": [
    "## Importing Modules"
   ]
  },
  {
   "cell_type": "code",
   "execution_count": 1,
   "metadata": {},
   "outputs": [],
   "source": [
    "from config import config\n",
    "from NLUEngine import NLUEngine\n",
    "nlue = NLUEngine(**config)"
   ]
  },
  {
   "attachments": {},
   "cell_type": "markdown",
   "metadata": {},
   "source": [
    "## Classification Example\n",
    "\n",
    "`text` is input string given to model \n",
    "`label` is list of labels for a specific state "
   ]
  },
  {
   "cell_type": "code",
   "execution_count": 15,
   "metadata": {},
   "outputs": [
    {
     "name": "stdout",
     "output_type": "stream",
     "text": [
      "CPU times: user 4 µs, sys: 1 µs, total: 5 µs\n",
      "Wall time: 8.82 µs\n",
      "Hello How are You ['Greeting', 'Applogy'] {'sequence': 'Hello How are You', 'labels': ['Greeting', 'Applogy'], 'scores': [0.7557191252708435, 0.2442808449268341]}\n"
     ]
    },
    {
     "data": {
      "text/plain": [
       "{'predicted_label': 'Greeting', 'confidence': 0.7557191252708435}"
      ]
     },
     "execution_count": 15,
     "metadata": {},
     "output_type": "execute_result"
    }
   ],
   "source": [
    "%time \n",
    "nlue.nli.classifiy(text=\"Hello How are You\",labels=[\"Greeting\",\"Applogy\"])"
   ]
  },
  {
   "attachments": {},
   "cell_type": "markdown",
   "metadata": {},
   "source": [
    "## Question Answering Example\n",
    "\n",
    "`question` will be our prompt to extract specific information from user response\n",
    "`context` user response transcript i.e. Whisper Transcript after asking a question from users will be context\n",
    "\n"
   ]
  },
  {
   "cell_type": "code",
   "execution_count": 16,
   "metadata": {},
   "outputs": [
    {
     "name": "stdout",
     "output_type": "stream",
     "text": [
      "{'question': 'what is age?', 'context': 'I am Ali. And I am between 28 and 29'}\n"
     ]
    },
    {
     "data": {
      "text/plain": [
       "{'confidence': 0.7423091530799866, 'answer': 'between 28 and 29'}"
      ]
     },
     "execution_count": 16,
     "metadata": {},
     "output_type": "execute_result"
    }
   ],
   "source": [
    "nlue.nli.ask(question=\"what is age?\",context=\"I am Ali. And I am between 28 and 29\")"
   ]
  },
  {
   "cell_type": "code",
   "execution_count": null,
   "metadata": {},
   "outputs": [],
   "source": []
  }
 ],
 "metadata": {
  "kernelspec": {
   "display_name": "pytorch",
   "language": "python",
   "name": "python3"
  },
  "language_info": {
   "codemirror_mode": {
    "name": "ipython",
    "version": 3
   },
   "file_extension": ".py",
   "mimetype": "text/x-python",
   "name": "python",
   "nbconvert_exporter": "python",
   "pygments_lexer": "ipython3",
   "version": "3.10.8"
  },
  "orig_nbformat": 4,
  "vscode": {
   "interpreter": {
    "hash": "4b9277e17e4d3b9136bb920fc4abbb2f884d2c051b4f6c35aa7accdfb2456c0a"
   }
  }
 },
 "nbformat": 4,
 "nbformat_minor": 2
}
