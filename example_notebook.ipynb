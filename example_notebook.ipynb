{
 "cells": [
  {
   "attachments": {},
   "cell_type": "markdown",
   "metadata": {},
   "source": [
    "# Natural Lanagauge Understanding Engine for InBound Bot"
   ]
  },
  {
   "attachments": {},
   "cell_type": "markdown",
   "metadata": {},
   "source": [
    "## Importing Modules"
   ]
  },
  {
   "cell_type": "code",
   "execution_count": 1,
   "metadata": {},
   "outputs": [],
   "source": [
    "from config import config\n",
    "from NLUEngine import NLUEngine\n",
    "nlue = NLUEngine(**config)"
   ]
  },
  {
   "attachments": {},
   "cell_type": "markdown",
   "metadata": {},
   "source": [
    "## Classification Example\n",
    "\n",
    "`text` is input string given to model \n",
    "`label` is list of labels for a specific state "
   ]
  },
  {
   "cell_type": "code",
   "execution_count": 2,
   "metadata": {},
   "outputs": [
    {
     "name": "stderr",
     "output_type": "stream",
     "text": [
      "Asking to truncate to max_length but no maximum length is provided and the model has no predefined maximum length. Default to no truncation.\n"
     ]
    },
    {
     "name": "stdout",
     "output_type": "stream",
     "text": [
      "Hello,How are you? ['greeting', 'regret'] {'sequence': 'Hello,How are you?', 'labels': ['greeting', 'regret'], 'scores': [0.9180592894554138, 0.0819406509399414]}\n"
     ]
    },
    {
     "data": {
      "text/plain": [
       "{'predicted_label': 'greeting', 'confidence': 0.9180592894554138}"
      ]
     },
     "execution_count": 2,
     "metadata": {},
     "output_type": "execute_result"
    }
   ],
   "source": [
    "nlue.nli.classifiy(text=\"Hello,How are you?\",labels=[\"greeting\",\"regret\"])"
   ]
  },
  {
   "attachments": {},
   "cell_type": "markdown",
   "metadata": {},
   "source": [
    "## Question Answering Example\n",
    "\n",
    "`question` will be our prompt to extract specific information from user response\n",
    "`context` user response transcript i.e. Whisper Transcript after asking a question from users will be context\n",
    "\n"
   ]
  },
  {
   "cell_type": "code",
   "execution_count": 3,
   "metadata": {},
   "outputs": [
    {
     "name": "stdout",
     "output_type": "stream",
     "text": [
      "{'question': 'what is age?', 'context': 'I am Ali. I am 28 years old. How are you?'}\n"
     ]
    },
    {
     "data": {
      "text/plain": [
       "{'confidence': 0.10357271879911423, 'answer': '28 years old'}"
      ]
     },
     "execution_count": 3,
     "metadata": {},
     "output_type": "execute_result"
    }
   ],
   "source": [
    "nlue.nli.ask(question=\"what is age?\",context=\"I am Ali. I am 28 years old. How are you?\")"
   ]
  }
 ],
 "metadata": {
  "kernelspec": {
   "display_name": "pytorch",
   "language": "python",
   "name": "python3"
  },
  "language_info": {
   "codemirror_mode": {
    "name": "ipython",
    "version": 3
   },
   "file_extension": ".py",
   "mimetype": "text/x-python",
   "name": "python",
   "nbconvert_exporter": "python",
   "pygments_lexer": "ipython3",
   "version": "3.10.8"
  },
  "orig_nbformat": 4,
  "vscode": {
   "interpreter": {
    "hash": "4b9277e17e4d3b9136bb920fc4abbb2f884d2c051b4f6c35aa7accdfb2456c0a"
   }
  }
 },
 "nbformat": 4,
 "nbformat_minor": 2
}
